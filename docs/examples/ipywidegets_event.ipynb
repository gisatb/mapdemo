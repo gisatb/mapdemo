{
 "cells": [
  {
   "cell_type": "code",
   "execution_count": null,
   "id": "5f19e3ad",
   "metadata": {},
   "outputs": [],
   "source": [
    "import ipywidgets as widgets"
   ]
  },
  {
   "cell_type": "code",
   "execution_count": null,
   "id": "263e66d5",
   "metadata": {},
   "outputs": [],
   "source": [
    "inst_slider=widgets.IntSlider(\n",
    "    value=2000, min=1984, max=2025, step=1, description=\"year:\"\n",
    ")\n",
    "inst_slider"
   ]
  },
  {
   "cell_type": "code",
   "execution_count": null,
   "id": "260eee1b",
   "metadata": {},
   "outputs": [],
   "source": [
    "inst_slider.value"
   ]
  },
  {
   "cell_type": "code",
   "execution_count": null,
   "id": "89ecd3e4",
   "metadata": {},
   "outputs": [],
   "source": [
    "float_slider=widgets.FloatSlider(\n",
    "    value=0, min=0, max=1, step=0.1, description=\"Opacity:\"\n",
    ")\n",
    "float_slider"
   ]
  },
  {
   "cell_type": "code",
   "execution_count": null,
   "id": "9298595b",
   "metadata": {},
   "outputs": [],
   "source": [
    "float_slider.value"
   ]
  },
  {
   "cell_type": "code",
   "execution_count": null,
   "id": "91aa9cd8",
   "metadata": {},
   "outputs": [],
   "source": [
    "output=widgets.Output()\n",
    "output"
   ]
  },
  {
   "cell_type": "code",
   "execution_count": null,
   "id": "c85835ca",
   "metadata": {},
   "outputs": [],
   "source": [
    "int_range =widgets.IntSlider()\n",
    "\n",
    "def on_value_change(change):\n",
    "    with output:\n",
    "        output.clear_output()\n",
    "        print(f\"old value: {change['old']}\")\n",
    "        print(f\"new value: {change['new']}\")\n",
    "\n",
    "int_range.observe(on_value_change, names='value')\n",
    "int_range"
   ]
  },
  {
   "cell_type": "code",
   "execution_count": null,
   "id": "e07bd7ad",
   "metadata": {},
   "outputs": [],
   "source": [
    "import mapdemo\n",
    "m=mapdemo.Map()\n",
    "m"
   ]
  },
  {
   "cell_type": "code",
   "execution_count": null,
   "id": "ae94fe9c",
   "metadata": {},
   "outputs": [],
   "source": [
    "int_range =widgets.FloatSlider(value=1, min=0, max=1, stsp=0.1,description=\"Opacity\")\n",
    "\n",
    "def on_value_change(change):\n",
    "   m.layers[-1].opacity=change['new']\n",
    "\n",
    "int_range.observe(on_value_change, names='value')\n",
    "int_range"
   ]
  },
  {
   "cell_type": "code",
   "execution_count": null,
   "id": "ed3bb1af",
   "metadata": {},
   "outputs": [],
   "source": [
    "m.add_widget(int_range)"
   ]
  },
  {
   "cell_type": "code",
   "execution_count": null,
   "id": "886608e5",
   "metadata": {},
   "outputs": [],
   "source": [
    "import mapdemo"
   ]
  },
  {
   "cell_type": "code",
   "execution_count": null,
   "id": "35cc858f",
   "metadata": {},
   "outputs": [],
   "source": [
    "m=mapdemo.Map()\n",
    "m.add_basemap('OpenTopoMap')\n",
    "m.add_opacity_slider()\n",
    "m"
   ]
  },
  {
   "cell_type": "code",
   "execution_count": null,
   "id": "20405210",
   "metadata": {},
   "outputs": [],
   "source": [
    "m.layers[-1].opacity=0.5"
   ]
  },
  {
   "cell_type": "code",
   "execution_count": null,
   "id": "bf60d263",
   "metadata": {},
   "outputs": [],
   "source": [
    "m.add_opacity_slider(layer_index=0)"
   ]
  },
  {
   "cell_type": "code",
   "execution_count": null,
   "id": "cd38e92f",
   "metadata": {},
   "outputs": [],
   "source": [
    "m=mapdemo.Map()\n",
    "m.add_basemap_gui()\n",
    "m"
   ]
  }
 ],
 "metadata": {
  "kernelspec": {
   "display_name": "geo",
   "language": "python",
   "name": "python3"
  },
  "language_info": {
   "codemirror_mode": {
    "name": "ipython",
    "version": 3
   },
   "file_extension": ".py",
   "mimetype": "text/x-python",
   "name": "python",
   "nbconvert_exporter": "python",
   "pygments_lexer": "ipython3",
   "version": "3.11.13"
  }
 },
 "nbformat": 4,
 "nbformat_minor": 5
}
